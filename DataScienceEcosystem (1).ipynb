{
 "cells": [
  {
   "cell_type": "markdown",
   "id": "1743bbb2-27ae-47b9-9ebe-66c2c37d1c94",
   "metadata": {},
   "source": [
    "#Data Science Tools and Ecosystem"
   ]
  },
  {
   "cell_type": "markdown",
   "id": "733c3130-ccbd-486f-a29a-7868fc39518f",
   "metadata": {},
   "source": [
    "***In this notebook, Data Science Tools and Ecosystem are summarized.***"
   ]
  },
  {
   "cell_type": "markdown",
   "id": "95332a49-d591-4d8f-8b1f-322709215679",
   "metadata": {},
   "source": [
    "**Objectives:**\n",
    "\n",
    "- To Create a Jupyter Notebook.\n",
    "- To Create markdown cell with title of the notebook.\n",
    "- To Create a markdown cell for an introduction.\n",
    "- To Create a markdown cell to list data science languages.\n",
    "- To Create a markdown cell to list data science libraries.\n",
    "- To Create a markdown cell with a table of Data Science tools.\n",
    "- To Create a markdown cell introducing arithmetic expression examples.\n",
    "- To Create a code cell to multiply and add numbers.\n",
    "- To Create a code cell to convert minutes to hours.\n",
    "- To Insert a markdown cell to list Objectives.\n",
    "- To Share your notebook through GitHub\n"
   ]
  },
  {
   "cell_type": "markdown",
   "id": "f7bcd61d-7aa8-42e3-b043-d74a673d55a8",
   "metadata": {},
   "source": [
    "Some of the popular languages that Data Scientists use are:\n",
    "1. Python\n",
    "2. R\n",
    "3. Scala"
   ]
  },
  {
   "cell_type": "markdown",
   "id": "73f733f9-c6b7-4a0f-8093-53419b577f96",
   "metadata": {},
   "source": [
    "Some of the commonly used libraries used by Data Scientists include:\n",
    "1. Numpy\n",
    "2. Pandas\n",
    "3. Matplotlib\n",
    "4. ggplot\n",
    "5. caret"
   ]
  },
  {
   "cell_type": "markdown",
   "id": "00a639ea-93e2-4285-92b3-bb02188c36c9",
   "metadata": {},
   "source": [
    "#Data science tools\n",
    "|  Data Science Tools  |\n",
    "| - |\n",
    "|  Jupyter Notebook  |\n",
    "|  RStudio  |\n",
    "|  Apache Zeppelin  |"
   ]
  },
  {
   "cell_type": "markdown",
   "id": "f8cfa108-79bf-45d3-a949-7b0588d7802f",
   "metadata": {},
   "source": [
    "###Below are a few examples of evaluating arithmetic expressions in Python"
   ]
  },
  {
   "cell_type": "code",
   "execution_count": 1,
   "id": "2924b88f-f0d4-4145-a61e-bc69f438ee2f",
   "metadata": {},
   "outputs": [
    {
     "data": {
      "text/plain": [
       "17"
      ]
     },
     "execution_count": 1,
     "metadata": {},
     "output_type": "execute_result"
    }
   ],
   "source": [
    "#This a simple arithmetic expression to mutiply then add integers\n",
    "\n",
    "(3*4)+5"
   ]
  },
  {
   "cell_type": "code",
   "execution_count": 2,
   "id": "caa342a5-147a-4203-bde5-752836ae1727",
   "metadata": {},
   "outputs": [
    {
     "data": {
      "text/plain": [
       "3.3333333333333335"
      ]
     },
     "execution_count": 2,
     "metadata": {},
     "output_type": "execute_result"
    }
   ],
   "source": [
    "#This will convert 200 minutes to hours by diving by 60\n",
    "\n",
    "200/60"
   ]
  },
  {
   "cell_type": "markdown",
   "id": "037faddd-a274-48a1-b678-8f7e31ba3cd5",
   "metadata": {},
   "source": [
    "##Author\n",
    "\n",
    "Penumarthi Srinivasu"
   ]
  }
 ],
 "metadata": {
  "kernelspec": {
   "display_name": "Python 3 (ipykernel)",
   "language": "python",
   "name": "python3"
  },
  "language_info": {
   "codemirror_mode": {
    "name": "ipython",
    "version": 3
   },
   "file_extension": ".py",
   "mimetype": "text/x-python",
   "name": "python",
   "nbconvert_exporter": "python",
   "pygments_lexer": "ipython3",
   "version": "3.12.9"
  }
 },
 "nbformat": 4,
 "nbformat_minor": 5
}
